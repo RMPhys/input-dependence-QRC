{
 "cells": [
  {
   "cell_type": "code",
   "execution_count": 1,
   "metadata": {},
   "outputs": [],
   "source": [
    "include(\"src/sqmodule.jl\")\n",
    "include(\"src/common.jl\")\n",
    "import .SQmodule \n",
    "import .Common\n",
    "using NPZ # For loading data\n",
    "using Statistics"
   ]
  },
  {
   "cell_type": "code",
   "execution_count": 2,
   "metadata": {},
   "outputs": [
    {
     "data": {
      "text/plain": [
       "build_hyparam (generic function with 1 method)"
      ]
     },
     "metadata": {},
     "output_type": "display_data"
    }
   ],
   "source": [
    "abstract type Memory_Task end\n",
    "\n",
    "struct STM_Task <: Memory_Task\n",
    "    name:: String\n",
    "    τ::Int64\n",
    "    p::Int64\n",
    "    function STM_Task(τ)\n",
    "        new(\"STM\",τ,1)\n",
    "    end\n",
    "end\n",
    "\n",
    "function testing_system(u::Matrix{Float64},metric::Common.Metric,Nwtr::Int64,washout::Int64,Ntest::Int64,type::Symbol,hyparam,task::Memory_Task)\n",
    "    error_ = Vector{Float64}(undef,length(hyparam))\n",
    "    yin = Memory_target(u,τ,Ntest+Nwtr,task)\n",
    "    for j=1:length(hyparam)\n",
    "        tupla = hyparam[j]\n",
    "        model = SQmodule.build_SQModel(tupla,type) \n",
    "        weights, ρ0 = SQmodule.train(model,u[τ+1:Nwtr+τ,:],yin[τ+1:Nwtr+τ,:],Nwtr,washout)\n",
    "        ytest = SQmodule.pred_openloop(model,u[Nwtr+τ+1:Nwtr+Ntest+τ,:],weights,ρ0,Ntest)\n",
    "        error_[j] = Common.metric_val(metric,yin[Nwtr+τ+1:Nwtr+Ntest+τ,:],ytest)\n",
    "    end\n",
    "    return error_\n",
    "end\n",
    "\n",
    "function Memory_target(u,τ,N,task::STM_Task)\n",
    "    y = zeros(Float64,N+τ)\n",
    "    y[τ+1:N+τ] = u[1:N]\n",
    "    return y\n",
    "end\n",
    "\n",
    "function logrange(x1, x2, n)\n",
    "    return 10 .^ range(x1, stop=x2, length=n)\n",
    "end\n",
    "\n",
    "function build_hyparam(allhyparam::Tuple{Vararg{Vector{Float64}}})\n",
    "    return collect(Iterators.product(allhyparam...))\n",
    "end\n"
   ]
  },
  {
   "cell_type": "code",
   "execution_count": 16,
   "metadata": {},
   "outputs": [],
   "source": [
    "τ = 1\n",
    "task = STM_Task(τ)\n",
    "washout = 100\n",
    "Ntrain = 1000\n",
    "Ntest = 1000\n",
    "Nwtr = Ntrain+washout\n",
    "Ntotal = Ntest+Nwtr+τ\n",
    "\n",
    "n_lines = 5 # number of lines in the plot\n",
    "g_points = 100 # number of points in the plot\n",
    "g_ = collect(logrange(-2,2,g_points)) #Input strength\n",
    "ϵ_ = collect(range(0.2,1.0,n_lines)) #Leaking rate\n",
    "λ_ = [1e-10] #Regularization parameter\n",
    "allhyparam = (g_,ϵ_,λ_)\n",
    "hyparam = build_hyparam(allhyparam)\n",
    "type = :Example24 #QRC model\n",
    "metric = Common.Metric_C(); #metric of the validation!\n",
    "\n",
    "realizations = 100 # number of random realizations of the input sequence\n",
    "\n",
    "error_list = Matrix{Float64}(undef,length(hyparam),realizations) \n",
    "for r=1:realizations\n",
    "    u = rand(Ntotal,1)\n",
    "    error_list[:,r] = testing_system(u,metric,Nwtr,washout,Ntest,type,hyparam,task)\n",
    "end\n",
    "mean_list = mean(error_list,dims=2)\n",
    "std_list = std(error_list,dims=2);"
   ]
  },
  {
   "cell_type": "code",
   "execution_count": null,
   "metadata": {},
   "outputs": [],
   "source": [
    "using Plots\n",
    "colors=palette(:plasma, n_lines+1) # You can also try :viridis, etc.\n",
    "# Initialize plot\n",
    "p = plot(xscale = :log10,tickfontsize = 12, size=(500,350),\n",
    "legendfontsize = 11,guidefontsize = 14,dpi=300)\n",
    "\n",
    "for i in 1:n_lines\n",
    "    m = mean_list[1+(i-1)*g_points:i*g_points]\n",
    "    s = std_list[1+(i-1)*g_points:i*g_points]\n",
    "    c = colors[i]\n",
    "    # Shaded region\n",
    "    plot!(g_, m .+ s, fillrange=m .- s, fillalpha=0.3, linealpha=0, color=c, label=\"\")\n",
    "    # Mean line\n",
    "    plot!(g_, m, color=c, lw=2, label=\"ϵ=$(ϵ_[i])\")\n",
    "end\n",
    "# Add vertical line at x=2π\n",
    "vline!([2*π], color = :black, linestyle = :dash, linewidth = 2, label = \"g=2π\")\n",
    "# Final touches\n",
    "xlabel!(\"g\")\n",
    "ylabel!(\"C\")\n",
    "display(p)\n",
    "savefig(p,\"Fig2.png\")"
   ]
  }
 ],
 "metadata": {
  "kernelspec": {
   "display_name": "Julia 1.10.6",
   "language": "julia",
   "name": "julia-1.10"
  },
  "language_info": {
   "file_extension": ".jl",
   "mimetype": "application/julia",
   "name": "julia",
   "version": "1.10.6"
  }
 },
 "nbformat": 4,
 "nbformat_minor": 2
}
